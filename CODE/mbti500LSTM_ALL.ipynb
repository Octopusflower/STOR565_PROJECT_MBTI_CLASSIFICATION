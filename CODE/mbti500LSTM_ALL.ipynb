{
  "nbformat": 4,
  "nbformat_minor": 0,
  "metadata": {
    "colab": {
      "provenance": []
    },
    "kernelspec": {
      "name": "python3",
      "display_name": "Python 3"
    },
    "language_info": {
      "name": "python"
    },
    "accelerator": "GPU",
    "gpuClass": "standard"
  },
  "cells": [
    {
      "cell_type": "code",
      "execution_count": null,
      "metadata": {
        "colab": {
          "base_uri": "https://localhost:8080/"
        },
        "id": "6T9beUhUo7YV",
        "outputId": "4fc45fad-ddec-4bf2-e21b-af459f604ba9"
      },
      "outputs": [
        {
          "output_type": "stream",
          "name": "stdout",
          "text": [
            "Drive already mounted at /content/drive; to attempt to forcibly remount, call drive.mount(\"/content/drive\", force_remount=True).\n"
          ]
        }
      ],
      "source": [
        "import os\n",
        "import pandas as pd\n",
        "import numpy as np\n",
        "import tensorflow as tf\n",
        "from tensorflow.keras.models import Sequential\n",
        "from tensorflow.keras import layers\n",
        "import matplotlib.pyplot as plt\n",
        "from tensorflow.keras.preprocessing.text import Tokenizer\n",
        "from sklearn.feature_extraction.text import TfidfVectorizer\n",
        "from tensorflow.keras.layers import TextVectorization\n",
        "from tensorflow.keras.preprocessing.sequence import pad_sequences\n",
        "from sklearn.preprocessing import LabelEncoder\n",
        "from google.colab import drive \n",
        "drive.mount('/content/drive')\n",
        "os.chdir('/content/drive/MyDrive/STOR565 Project')"
      ]
    },
    {
      "cell_type": "code",
      "source": [
        "txt_size = 500\n",
        "epochs = 50\n",
        "mini_batch = 500"
      ],
      "metadata": {
        "id": "qI5KhYtFpXEf"
      },
      "execution_count": null,
      "outputs": []
    },
    {
      "cell_type": "code",
      "source": [
        "df = pd.read_csv(\"MBTI 500.csv\")\n",
        "df.info()"
      ],
      "metadata": {
        "colab": {
          "base_uri": "https://localhost:8080/"
        },
        "id": "l_oCdPTlpXB6",
        "outputId": "6b4029aa-a0ed-4458-e2dc-8a6086881cac"
      },
      "execution_count": null,
      "outputs": [
        {
          "output_type": "stream",
          "name": "stdout",
          "text": [
            "<class 'pandas.core.frame.DataFrame'>\n",
            "RangeIndex: 106067 entries, 0 to 106066\n",
            "Data columns (total 2 columns):\n",
            " #   Column  Non-Null Count   Dtype \n",
            "---  ------  --------------   ----- \n",
            " 0   posts   106067 non-null  object\n",
            " 1   type    106067 non-null  object\n",
            "dtypes: object(2)\n",
            "memory usage: 1.6+ MB\n"
          ]
        }
      ]
    },
    {
      "cell_type": "code",
      "source": [
        "df.head(5)"
      ],
      "metadata": {
        "colab": {
          "base_uri": "https://localhost:8080/",
          "height": 206
        },
        "id": "SIkNXNCDpW9Z",
        "outputId": "96ddf76a-916a-4ab3-8692-931daa3e6042"
      },
      "execution_count": null,
      "outputs": [
        {
          "output_type": "execute_result",
          "data": {
            "text/plain": [
              "                                               posts  type\n",
              "0  know intj tool use interaction people excuse a...  INTJ\n",
              "1  rap music ehh opp yeah know valid well know fa...  INTJ\n",
              "2  preferably p hd low except wew lad video p min...  INTJ\n",
              "3  drink like wish could drink red wine give head...  INTJ\n",
              "4  space program ah bad deal meing freelance max ...  INTJ"
            ],
            "text/html": [
              "\n",
              "  <div id=\"df-6a0f042f-9b63-4eb0-8de1-530b4cd41e12\">\n",
              "    <div class=\"colab-df-container\">\n",
              "      <div>\n",
              "<style scoped>\n",
              "    .dataframe tbody tr th:only-of-type {\n",
              "        vertical-align: middle;\n",
              "    }\n",
              "\n",
              "    .dataframe tbody tr th {\n",
              "        vertical-align: top;\n",
              "    }\n",
              "\n",
              "    .dataframe thead th {\n",
              "        text-align: right;\n",
              "    }\n",
              "</style>\n",
              "<table border=\"1\" class=\"dataframe\">\n",
              "  <thead>\n",
              "    <tr style=\"text-align: right;\">\n",
              "      <th></th>\n",
              "      <th>posts</th>\n",
              "      <th>type</th>\n",
              "    </tr>\n",
              "  </thead>\n",
              "  <tbody>\n",
              "    <tr>\n",
              "      <th>0</th>\n",
              "      <td>know intj tool use interaction people excuse a...</td>\n",
              "      <td>INTJ</td>\n",
              "    </tr>\n",
              "    <tr>\n",
              "      <th>1</th>\n",
              "      <td>rap music ehh opp yeah know valid well know fa...</td>\n",
              "      <td>INTJ</td>\n",
              "    </tr>\n",
              "    <tr>\n",
              "      <th>2</th>\n",
              "      <td>preferably p hd low except wew lad video p min...</td>\n",
              "      <td>INTJ</td>\n",
              "    </tr>\n",
              "    <tr>\n",
              "      <th>3</th>\n",
              "      <td>drink like wish could drink red wine give head...</td>\n",
              "      <td>INTJ</td>\n",
              "    </tr>\n",
              "    <tr>\n",
              "      <th>4</th>\n",
              "      <td>space program ah bad deal meing freelance max ...</td>\n",
              "      <td>INTJ</td>\n",
              "    </tr>\n",
              "  </tbody>\n",
              "</table>\n",
              "</div>\n",
              "      <button class=\"colab-df-convert\" onclick=\"convertToInteractive('df-6a0f042f-9b63-4eb0-8de1-530b4cd41e12')\"\n",
              "              title=\"Convert this dataframe to an interactive table.\"\n",
              "              style=\"display:none;\">\n",
              "        \n",
              "  <svg xmlns=\"http://www.w3.org/2000/svg\" height=\"24px\"viewBox=\"0 0 24 24\"\n",
              "       width=\"24px\">\n",
              "    <path d=\"M0 0h24v24H0V0z\" fill=\"none\"/>\n",
              "    <path d=\"M18.56 5.44l.94 2.06.94-2.06 2.06-.94-2.06-.94-.94-2.06-.94 2.06-2.06.94zm-11 1L8.5 8.5l.94-2.06 2.06-.94-2.06-.94L8.5 2.5l-.94 2.06-2.06.94zm10 10l.94 2.06.94-2.06 2.06-.94-2.06-.94-.94-2.06-.94 2.06-2.06.94z\"/><path d=\"M17.41 7.96l-1.37-1.37c-.4-.4-.92-.59-1.43-.59-.52 0-1.04.2-1.43.59L10.3 9.45l-7.72 7.72c-.78.78-.78 2.05 0 2.83L4 21.41c.39.39.9.59 1.41.59.51 0 1.02-.2 1.41-.59l7.78-7.78 2.81-2.81c.8-.78.8-2.07 0-2.86zM5.41 20L4 18.59l7.72-7.72 1.47 1.35L5.41 20z\"/>\n",
              "  </svg>\n",
              "      </button>\n",
              "      \n",
              "  <style>\n",
              "    .colab-df-container {\n",
              "      display:flex;\n",
              "      flex-wrap:wrap;\n",
              "      gap: 12px;\n",
              "    }\n",
              "\n",
              "    .colab-df-convert {\n",
              "      background-color: #E8F0FE;\n",
              "      border: none;\n",
              "      border-radius: 50%;\n",
              "      cursor: pointer;\n",
              "      display: none;\n",
              "      fill: #1967D2;\n",
              "      height: 32px;\n",
              "      padding: 0 0 0 0;\n",
              "      width: 32px;\n",
              "    }\n",
              "\n",
              "    .colab-df-convert:hover {\n",
              "      background-color: #E2EBFA;\n",
              "      box-shadow: 0px 1px 2px rgba(60, 64, 67, 0.3), 0px 1px 3px 1px rgba(60, 64, 67, 0.15);\n",
              "      fill: #174EA6;\n",
              "    }\n",
              "\n",
              "    [theme=dark] .colab-df-convert {\n",
              "      background-color: #3B4455;\n",
              "      fill: #D2E3FC;\n",
              "    }\n",
              "\n",
              "    [theme=dark] .colab-df-convert:hover {\n",
              "      background-color: #434B5C;\n",
              "      box-shadow: 0px 1px 3px 1px rgba(0, 0, 0, 0.15);\n",
              "      filter: drop-shadow(0px 1px 2px rgba(0, 0, 0, 0.3));\n",
              "      fill: #FFFFFF;\n",
              "    }\n",
              "  </style>\n",
              "\n",
              "      <script>\n",
              "        const buttonEl =\n",
              "          document.querySelector('#df-6a0f042f-9b63-4eb0-8de1-530b4cd41e12 button.colab-df-convert');\n",
              "        buttonEl.style.display =\n",
              "          google.colab.kernel.accessAllowed ? 'block' : 'none';\n",
              "\n",
              "        async function convertToInteractive(key) {\n",
              "          const element = document.querySelector('#df-6a0f042f-9b63-4eb0-8de1-530b4cd41e12');\n",
              "          const dataTable =\n",
              "            await google.colab.kernel.invokeFunction('convertToInteractive',\n",
              "                                                     [key], {});\n",
              "          if (!dataTable) return;\n",
              "\n",
              "          const docLinkHtml = 'Like what you see? Visit the ' +\n",
              "            '<a target=\"_blank\" href=https://colab.research.google.com/notebooks/data_table.ipynb>data table notebook</a>'\n",
              "            + ' to learn more about interactive tables.';\n",
              "          element.innerHTML = '';\n",
              "          dataTable['output_type'] = 'display_data';\n",
              "          await google.colab.output.renderOutput(dataTable, element);\n",
              "          const docLink = document.createElement('div');\n",
              "          docLink.innerHTML = docLinkHtml;\n",
              "          element.appendChild(docLink);\n",
              "        }\n",
              "      </script>\n",
              "    </div>\n",
              "  </div>\n",
              "  "
            ]
          },
          "metadata": {},
          "execution_count": 4
        }
      ]
    },
    {
      "cell_type": "code",
      "source": [
        "df_train = df.sample(frac=0.5, random_state=5).copy()\n",
        "df_val_test = df.drop(df_train.index).copy()\n",
        "df_val = df_val_test.sample(frac=0.5, random_state=5).copy()\n",
        "df_test = df_val_test.drop(df_val.index).copy()"
      ],
      "metadata": {
        "id": "ksMIVkFap2_M"
      },
      "execution_count": null,
      "outputs": []
    },
    {
      "cell_type": "code",
      "source": [
        "labels_train = df_train['type'].values\n",
        "data_train = df_train['posts'].values\n",
        "\n",
        "labels_val = df_val['type'].values\n",
        "data_val = df_val['posts'].values\n",
        "\n",
        "labels_test = df_test['type'].values\n",
        "data_test = df_test['posts'].values\n",
        "\n",
        "le = LabelEncoder()\n",
        "en_labels_train = le.fit_transform(labels_train)\n",
        "en_labels_val = le.transform(labels_val)\n",
        "en_labels_test = le.transform(labels_test)"
      ],
      "metadata": {
        "id": "ifa0ey7Op29M"
      },
      "execution_count": null,
      "outputs": []
    },
    {
      "cell_type": "code",
      "source": [
        "unique_labels, count = np.unique(df['type'], return_counts=True)\n",
        "fig = plt.figure(figsize=(9,5))\n",
        "plt.bar(unique_labels, count, width=0.8)\n",
        "plt.title(\"Count of types\")"
      ],
      "metadata": {
        "colab": {
          "base_uri": "https://localhost:8080/",
          "height": 353
        },
        "id": "kuPwTQu7p262",
        "outputId": "7b0500c4-823e-4290-8d00-a41245855093"
      },
      "execution_count": null,
      "outputs": [
        {
          "output_type": "execute_result",
          "data": {
            "text/plain": [
              "Text(0.5, 1.0, 'Count of types')"
            ]
          },
          "metadata": {},
          "execution_count": 7
        },
        {
          "output_type": "display_data",
          "data": {
            "text/plain": [
              "<Figure size 648x360 with 1 Axes>"
            ],
            "image/png": "[encoded data removed]"
          },
          "metadata": {
            "needs_background": "light"
          }
        }
      ]
    },
    {
      "cell_type": "code",
      "source": [
        "tokenizer = Tokenizer(num_words=10000, oov_token='<UNK>')\n",
        "tokenizer.fit_on_texts(data_train)"
      ],
      "metadata": {
        "id": "EVaOijaYp25B"
      },
      "execution_count": null,
      "outputs": []
    },
    {
      "cell_type": "code",
      "source": [
        "def pad_data(tokenizer, data2pad, maxlen):\n",
        "  sequence = tokenizer.texts_to_sequences(data2pad)\n",
        "  paded = pad_sequences(sequence, truncating='post', padding='post', \n",
        "                                 maxlen=maxlen)\n",
        "  return paded"
      ],
      "metadata": {
        "id": "bZ060Hb8pW7c"
      },
      "execution_count": null,
      "outputs": []
    },
    {
      "cell_type": "code",
      "source": [
        "paded_data_train = pad_data(tokenizer, data_train, txt_size)\n",
        "paded_data_val = pad_data(tokenizer, data_val, txt_size)\n",
        "paded_data_test = pad_data(tokenizer, data_test, txt_size)"
      ],
      "metadata": {
        "id": "wOsB86SdpW4-"
      },
      "execution_count": null,
      "outputs": []
    },
    {
      "cell_type": "code",
      "source": [
        "paded_data_train.shape"
      ],
      "metadata": {
        "colab": {
          "base_uri": "https://localhost:8080/"
        },
        "id": "l01ctLz8pW2n",
        "outputId": "ea33f1f0-68bb-4369-9280-2a21ec4ce47d"
      },
      "execution_count": null,
      "outputs": [
        {
          "output_type": "execute_result",
          "data": {
            "text/plain": [
              "(53034, 500)"
            ]
          },
          "metadata": {},
          "execution_count": 11
        }
      ]
    },
    {
      "cell_type": "code",
      "source": [
        "def vectorize_text(text, label): \n",
        "    text = tf.expand_dims(text, -1) \n",
        "    return vectorize_layer(text), label \n",
        "# Vectorize the data. \n",
        "\n",
        "max_features = 10000\n",
        "sequence_length = 500\n",
        "\n",
        "vectorize_layer = TextVectorization(\n",
        "    max_tokens=max_features, \n",
        "    output_mode=\"int\", \n",
        "    output_sequence_length=sequence_length,\n",
        ")\n",
        "vectorize_layer.adapt(data_train)\n",
        "vect_train = vectorize_layer(data_train)\n",
        "vect_val = vectorize_layer(data_val)\n",
        "vect_test = vectorize_layer(data_test)"
      ],
      "metadata": {
        "id": "Rfxrw-P-pW0J"
      },
      "execution_count": null,
      "outputs": []
    },
    {
      "cell_type": "code",
      "source": [
        "def create_model1(post_size, num_labels):\n",
        "    model = Sequential([\n",
        "            # The input layer\n",
        "            layers.Embedding(10000, 32, input_length=post_size),\n",
        "            layers.Bidirectional(layers.LSTM(40, return_sequences=True)),\n",
        "            layers.Bidirectional(layers.LSTM(40)),\n",
        "            layers.Dense(num_labels, activation='softmax')  \n",
        "    ])\n",
        "    return model\n"
      ],
      "metadata": {
        "id": "KGTWe7VAqm0u"
      },
      "execution_count": null,
      "outputs": []
    },
    {
      "cell_type": "code",
      "source": [
        "model1_token = create_model1(txt_size, len(unique_labels))\n",
        "model1_token.compile(loss='sparse_categorical_crossentropy',\n",
        "              optimizer='adam',\n",
        "              metrics=['accuracy'])\n",
        "model1_token.summary()"
      ],
      "metadata": {
        "colab": {
          "base_uri": "https://localhost:8080/"
        },
        "id": "vKqXybjPqmyu",
        "outputId": "b3f08465-a44d-4573-fa6c-cd9d822b90ac"
      },
      "execution_count": null,
      "outputs": [
        {
          "output_type": "stream",
          "name": "stdout",
          "text": [
            "Model: \"sequential\"\n",
            "_________________________________________________________________\n",
            " Layer (type)                Output Shape              Param #   \n",
            "=================================================================\n",
            " embedding (Embedding)       (None, 500, 32)           320000    \n",
            "                                                                 \n",
            " bidirectional (Bidirectiona  (None, 500, 80)          23360     \n",
            " l)                                                              \n",
            "                                                                 \n",
            " bidirectional_1 (Bidirectio  (None, 80)               38720     \n",
            " nal)                                                            \n",
            "                                                                 \n",
            " dense (Dense)               (None, 16)                1296      \n",
            "                                                                 \n",
            "=================================================================\n",
            "Total params: 383,376\n",
            "Trainable params: 383,376\n",
            "Non-trainable params: 0\n",
            "_________________________________________________________________\n"
          ]
        }
      ]
    },
    {
      "cell_type": "code",
      "source": [
        "history = model1_token.fit(\n",
        "    paded_data_train, en_labels_train,\n",
        "    validation_data = (paded_data_val, en_labels_val),\n",
        "    epochs = epochs,\n",
        "    batch_size = mini_batch,\n",
        "    callbacks=[\n",
        "               tf.keras.callbacks.EarlyStopping(monitor='val_accuracy', patience=4)\n",
        "    ]\n",
        ")"
      ],
      "metadata": {
        "colab": {
          "base_uri": "https://localhost:8080/"
        },
        "id": "KStMbRHeqmwu",
        "outputId": "749664d9-baef-4042-c1df-8da202ddc390"
      },
      "execution_count": null,
      "outputs": [
        {
          "output_type": "stream",
          "name": "stdout",
          "text": [
            "Epoch 1/50\n",
            "107/107 [==============================] - 24s 163ms/step - loss: 2.1964 - accuracy: 0.2239 - val_loss: 2.0892 - val_accuracy: 0.2304\n",
            "Epoch 2/50\n",
            "107/107 [==============================] - 16s 148ms/step - loss: 2.0364 - accuracy: 0.2406 - val_loss: 2.0278 - val_accuracy: 0.2421\n",
            "Epoch 3/50\n",
            "107/107 [==============================] - 16s 149ms/step - loss: 1.9957 - accuracy: 0.2542 - val_loss: 2.0265 - val_accuracy: 0.2485\n",
            "Epoch 4/50\n",
            "107/107 [==============================] - 16s 145ms/step - loss: 1.9398 - accuracy: 0.2826 - val_loss: 2.0002 - val_accuracy: 0.2663\n",
            "Epoch 5/50\n",
            "107/107 [==============================] - 16s 147ms/step - loss: 1.8067 - accuracy: 0.3341 - val_loss: 1.8847 - val_accuracy: 0.3036\n",
            "Epoch 6/50\n",
            "107/107 [==============================] - 16s 146ms/step - loss: 1.6385 - accuracy: 0.3961 - val_loss: 1.6887 - val_accuracy: 0.3820\n",
            "Epoch 7/50\n",
            "107/107 [==============================] - 16s 148ms/step - loss: 1.6408 - accuracy: 0.3946 - val_loss: 1.6868 - val_accuracy: 0.3673\n",
            "Epoch 8/50\n",
            "107/107 [==============================] - 16s 148ms/step - loss: 1.5620 - accuracy: 0.4291 - val_loss: 1.6484 - val_accuracy: 0.3851\n",
            "Epoch 9/50\n",
            "107/107 [==============================] - 16s 146ms/step - loss: 1.4657 - accuracy: 0.4725 - val_loss: 1.5703 - val_accuracy: 0.4369\n",
            "Epoch 10/50\n",
            "107/107 [==============================] - 16s 146ms/step - loss: 1.4478 - accuracy: 0.4787 - val_loss: 1.6072 - val_accuracy: 0.3969\n",
            "Epoch 11/50\n",
            "107/107 [==============================] - 15s 145ms/step - loss: 1.3886 - accuracy: 0.5068 - val_loss: 1.5715 - val_accuracy: 0.4605\n",
            "Epoch 12/50\n",
            "107/107 [==============================] - 16s 147ms/step - loss: 1.3040 - accuracy: 0.5526 - val_loss: 1.4523 - val_accuracy: 0.5126\n",
            "Epoch 13/50\n",
            "107/107 [==============================] - 16s 146ms/step - loss: 1.1896 - accuracy: 0.6046 - val_loss: 1.3546 - val_accuracy: 0.5458\n",
            "Epoch 14/50\n",
            "107/107 [==============================] - 16s 146ms/step - loss: 1.0963 - accuracy: 0.6404 - val_loss: 1.3424 - val_accuracy: 0.5645\n",
            "Epoch 15/50\n",
            "107/107 [==============================] - 16s 146ms/step - loss: 1.0198 - accuracy: 0.6701 - val_loss: 1.2868 - val_accuracy: 0.5852\n",
            "Epoch 16/50\n",
            "107/107 [==============================] - 16s 148ms/step - loss: 0.9573 - accuracy: 0.6944 - val_loss: 1.2602 - val_accuracy: 0.6013\n",
            "Epoch 17/50\n",
            "107/107 [==============================] - 16s 145ms/step - loss: 0.8875 - accuracy: 0.7220 - val_loss: 1.2770 - val_accuracy: 0.5945\n",
            "Epoch 18/50\n",
            "107/107 [==============================] - 16s 146ms/step - loss: 0.8390 - accuracy: 0.7434 - val_loss: 1.1823 - val_accuracy: 0.6372\n",
            "Epoch 19/50\n",
            "107/107 [==============================] - 16s 145ms/step - loss: 0.7803 - accuracy: 0.7676 - val_loss: 1.1711 - val_accuracy: 0.6562\n",
            "Epoch 20/50\n",
            "107/107 [==============================] - 16s 146ms/step - loss: 0.7404 - accuracy: 0.7831 - val_loss: 1.1055 - val_accuracy: 0.6745\n",
            "Epoch 21/50\n",
            "107/107 [==============================] - 16s 147ms/step - loss: 0.6792 - accuracy: 0.8046 - val_loss: 1.0179 - val_accuracy: 0.7021\n",
            "Epoch 22/50\n",
            "107/107 [==============================] - 16s 146ms/step - loss: 0.6108 - accuracy: 0.8266 - val_loss: 1.0106 - val_accuracy: 0.7090\n",
            "Epoch 23/50\n",
            "107/107 [==============================] - 16s 147ms/step - loss: 0.5662 - accuracy: 0.8414 - val_loss: 0.9901 - val_accuracy: 0.7174\n",
            "Epoch 24/50\n",
            "107/107 [==============================] - 15s 145ms/step - loss: 0.5266 - accuracy: 0.8540 - val_loss: 1.0158 - val_accuracy: 0.7181\n",
            "Epoch 25/50\n",
            "107/107 [==============================] - 16s 147ms/step - loss: 0.5174 - accuracy: 0.8545 - val_loss: 0.9800 - val_accuracy: 0.7196\n",
            "Epoch 26/50\n",
            "107/107 [==============================] - 16s 148ms/step - loss: 0.5613 - accuracy: 0.8407 - val_loss: 1.0280 - val_accuracy: 0.7017\n",
            "Epoch 27/50\n",
            "107/107 [==============================] - 16s 146ms/step - loss: 0.5011 - accuracy: 0.8594 - val_loss: 1.0038 - val_accuracy: 0.7195\n",
            "Epoch 28/50\n",
            "107/107 [==============================] - 16s 145ms/step - loss: 0.4527 - accuracy: 0.8748 - val_loss: 1.0494 - val_accuracy: 0.7181\n",
            "Epoch 29/50\n",
            "107/107 [==============================] - 16s 148ms/step - loss: 0.4298 - accuracy: 0.8814 - val_loss: 1.0591 - val_accuracy: 0.7199\n",
            "Epoch 30/50\n",
            "107/107 [==============================] - 15s 145ms/step - loss: 0.3974 - accuracy: 0.8921 - val_loss: 1.0337 - val_accuracy: 0.7291\n",
            "Epoch 31/50\n",
            "107/107 [==============================] - 16s 145ms/step - loss: 0.3749 - accuracy: 0.8990 - val_loss: 1.0670 - val_accuracy: 0.7258\n",
            "Epoch 32/50\n",
            "107/107 [==============================] - 16s 145ms/step - loss: 0.3455 - accuracy: 0.9092 - val_loss: 1.1043 - val_accuracy: 0.7259\n",
            "Epoch 33/50\n",
            "107/107 [==============================] - 16s 146ms/step - loss: 0.3269 - accuracy: 0.9145 - val_loss: 1.1279 - val_accuracy: 0.7250\n",
            "Epoch 34/50\n",
            "107/107 [==============================] - 16s 147ms/step - loss: 0.3115 - accuracy: 0.9193 - val_loss: 1.1550 - val_accuracy: 0.7233\n"
          ]
        }
      ]
    },
    {
      "cell_type": "code",
      "source": [
        "import keras\n",
        "from matplotlib import pyplot as plt\n",
        "print(history.history.keys())\n",
        "# summarize history for accuracy\n",
        "plt.plot(history.history['accuracy'])\n",
        "plt.plot(history.history['val_accuracy'])\n",
        "plt.title('Overall mbti500 model accuracy')\n",
        "plt.ylabel('accuracy')\n",
        "plt.xlabel('epoch')\n",
        "plt.legend(['train', 'test'], loc='upper left')\n",
        "plt.savefig('Overall mbti500 model accuracy.png', dpi=300, bbox_inches='tight')\n",
        "plt.show()"
      ],
      "metadata": {
        "colab": {
          "base_uri": "https://localhost:8080/",
          "height": 312
        },
        "id": "c6JuQEkKqmuc",
        "outputId": "97f9ff0f-c653-48fe-d9d8-5f6bf8dd3ff7"
      },
      "execution_count": null,
      "outputs": [
        {
          "output_type": "stream",
          "name": "stdout",
          "text": [
            "dict_keys(['loss', 'accuracy', 'val_loss', 'val_accuracy'])\n"
          ]
        },
        {
          "output_type": "display_data",
          "data": {
            "text/plain": [
              "<Figure size 432x288 with 1 Axes>"
            ],
            "image/png": "[encoded data removed]"
          },
          "metadata": {
            "needs_background": "light"
          }
        }
      ]
    },
    {
      "cell_type": "code",
      "source": [
        "plt.plot(history.history['loss'])\n",
        "plt.plot(history.history['val_loss'])\n",
        "plt.title('Overall mbti500 model loss')\n",
        "plt.ylabel('loss')\n",
        "plt.xlabel('epoch')\n",
        "plt.legend(['train', 'test'], loc='upper left')\n",
        "plt.savefig('Overall mbti500 model loss.png', dpi=300, bbox_inches='tight')\n",
        "plt.show()"
      ],
      "metadata": {
        "id": "jI8kmBDV074X",
        "colab": {
          "base_uri": "https://localhost:8080/",
          "height": 295
        },
        "outputId": "d3580893-17c1-464f-e384-bc4bc404619a"
      },
      "execution_count": null,
      "outputs": [
        {
          "output_type": "display_data",
          "data": {
            "text/plain": [
              "<Figure size 432x288 with 1 Axes>"
            ],
            "image/png": "[encoded data removed]"
          },
          "metadata": {
            "needs_background": "light"
          }
        }
      ]
    },
    {
      "cell_type": "code",
      "source": [
        "_ = model1_token.evaluate(paded_data_test, en_labels_test)"
      ],
      "metadata": {
        "colab": {
          "base_uri": "https://localhost:8080/"
        },
        "id": "c8MjCHuTqmsR",
        "outputId": "9c2eb119-cc3e-48d5-f649-d542ad04ff15"
      },
      "execution_count": null,
      "outputs": [
        {
          "output_type": "stream",
          "name": "stdout",
          "text": [
            "829/829 [==============================] - 22s 26ms/step - loss: 1.1627 - accuracy: 0.7205\n"
          ]
        }
      ]
    }
  ]
}